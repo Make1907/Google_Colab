{
  "nbformat": 4,
  "nbformat_minor": 0,
  "metadata": {
    "colab": {
      "provenance": [],
      "history_visible": true,
      "authorship_tag": "ABX9TyNgRWSfyymiVD4kX9/jnCGY",
      "include_colab_link": true
    },
    "kernelspec": {
      "name": "python3",
      "display_name": "Python 3"
    },
    "language_info": {
      "name": "python"
    }
  },
  "cells": [
    {
      "cell_type": "markdown",
      "metadata": {
        "id": "view-in-github",
        "colab_type": "text"
      },
      "source": [
        "<a href=\"https://colab.research.google.com/github/Make1907/Google_Colab/blob/main/SA.ipynb\" target=\"_parent\"><img src=\"https://colab.research.google.com/assets/colab-badge.svg\" alt=\"Open In Colab\"/></a>"
      ]
    },
    {
      "cell_type": "code",
      "execution_count": 1,
      "metadata": {
        "colab": {
          "base_uri": "https://localhost:8080/"
        },
        "id": "IJ3vrGrtTmtv",
        "outputId": "9533a9f5-9b67-4a76-90bb-243b66b102d7"
      },
      "outputs": [
        {
          "output_type": "stream",
          "name": "stdout",
          "text": [
            "a\n"
          ]
        }
      ],
      "source": [
        "print(\"a\")"
      ]
    },
    {
      "cell_type": "code",
      "source": [
        "!cat /proc/cpuinfo | grep name | cut -f2 -d: | uniq -c"
      ],
      "metadata": {
        "colab": {
          "base_uri": "https://localhost:8080/"
        },
        "id": "s-6gMTgYTnUd",
        "outputId": "bc016d18-e95d-4150-ce35-36beecf7bd35"
      },
      "execution_count": 2,
      "outputs": [
        {
          "output_type": "stream",
          "name": "stdout",
          "text": [
            "      2  Intel(R) Xeon(R) CPU @ 2.20GHz\n"
          ]
        }
      ]
    },
    {
      "cell_type": "code",
      "source": [
        "\"\"\"\n",
        "Author: Michael\n",
        "Create data: 2023.03.17\n",
        "\"\"\"\n",
        "\n",
        "import os\n",
        "import time\n",
        "import random\n",
        "from functools import wraps\n",
        "\n",
        "import pygad\n",
        "import matplotlib.pyplot as plt\n",
        "import rectangle_packing_solver as rps\n",
        "\n",
        "H_MAX = 250\n",
        "B_SPACING = 5\n",
        "WIDTH_STEP = 8\n",
        "# S_RECT = [600, 800, 5600, 80, 480, 160, 80, 80, 600, 800]\n",
        "S_RECT = [600, 800, 5600, 80, 480, 160, 80, 80, 600, 800, 600, 800, 5600, 80, 480,\n",
        "          160, 80, 80, 600, 800, 600, 800, 5600, 80, 480, 160, 80, 80, 600, 800]\n",
        "RECT_NUM = len(S_RECT)\n",
        "\n",
        "\n",
        "def dev(fun):\n",
        "    @wraps(fun)\n",
        "    def wrap_the_function():\n",
        "        start = time.time()\n",
        "        fun()\n",
        "        end = time.time()\n",
        "        time_run = (end - start)/60\n",
        "        print(\"-----------------------------------\")\n",
        "        print(\"time: \", time_run, \"min\")\n",
        "        print(\"-----------------------------------\")\n",
        "    return wrap_the_function\n",
        "\n",
        "\n",
        "# calculate the complex of the problem\n",
        "def cal_complex():\n",
        "    res = 1\n",
        "    for i in S_RECT:\n",
        "        print(i/WIDTH_STEP)\n",
        "        res = res * i / WIDTH_STEP\n",
        "    return res\n",
        "\n",
        "\n",
        "class Placement:\n",
        "    def __init__(self, s_rect, method):\n",
        "        self.data = s_rect\n",
        "        self.b_box_width_height = ()   # B_box width and height\n",
        "        self.method = method\n",
        "\n",
        "    def get_b_box_width_height(self):\n",
        "        return self.b_box_width_height\n",
        "\n",
        "    # random generate initial population\n",
        "    def gen_rect(self):\n",
        "        threshold = 170\n",
        "        count = 0\n",
        "        while True:\n",
        "            rect_width_height = []\n",
        "            height_all = 0\n",
        "            max_line = 0\n",
        "            for i in self.data:\n",
        "                height = 100\n",
        "                width = 0\n",
        "                while height >= H_MAX:\n",
        "                    ran_width = random.randrange(WIDTH_STEP, i / WIDTH_STEP, WIDTH_STEP)\n",
        "                    width =  ran_width + B_SPACING\n",
        "                    height = round((i / ran_width), 3) + B_SPACING\n",
        "                    height_all += min(width, height)\n",
        "                    max_line = max(max_line, max(width, height))\n",
        "                rect_width_height.append([width, height])\n",
        "            if height_all < threshold or max_line > 200:\n",
        "                count += 1\n",
        "                continue\n",
        "            # print(\"iter num:\", count, \" height_all: \", height_all)\n",
        "            # print(\"rect_width_height: \", rect_width_height)\n",
        "            break\n",
        "        return rect_width_height\n",
        "\n",
        "    def solver(self, rect_data,\n",
        "               idx=0,\n",
        "               save=True,\n",
        "               simanneal_minutes=0.01,\n",
        "               simanneal_steps=10,\n",
        "               height_limit=H_MAX):\n",
        "        problem = rps.Problem(rectangles=rect_data)\n",
        "        solution = rps.Solver().solve(problem=problem,\n",
        "                                      height_limit=height_limit,\n",
        "                                      show_progress=False,\n",
        "                                      seed=1111,\n",
        "                                      simanneal_minutes=simanneal_minutes,\n",
        "                                      simanneal_steps=simanneal_steps)\n",
        "        if save:\n",
        "            ## save results\n",
        "            # path = \"./result/ga-{}.png\".format(idx + 1)\n",
        "            path = None\n",
        "            rps.Visualizer().visualize(solution=solution, path=path)\n",
        "            print(idx + 1, \" solution:\", solution.floorplan.bounding_box)\n",
        "        self.b_box_width_height = solution.floorplan.bounding_box\n",
        "        if self.method == \"SA\":\n",
        "            return self.b_box_width_height, solution\n",
        "        if self.method == \"GA\":\n",
        "            return self.b_box_width_height,\n",
        "\n",
        "\n",
        "def sa_run(method):\n",
        "    width_list = []\n",
        "    iter_num = 100\n",
        "\n",
        "    placement = Placement(s_rect=S_RECT, method=method)\n",
        "    min_width = float('inf')\n",
        "    best_solution = None\n",
        "    for i in range(iter_num):\n",
        "        if i % 10 == 0:\n",
        "          print(\"iter: \", i)\n",
        "        rect_data = placement.gen_rect()\n",
        "        _, solution = placement.solver(rect_data, i, save=False)\n",
        "        return_first_width = placement.get_b_box_width_height()[0]\n",
        "        width_list.append(return_first_width)\n",
        "        if return_first_width < min_width:\n",
        "            min_width = return_first_width\n",
        "            best_solution = solution\n",
        "    rps.Visualizer().visualize(solution=best_solution, path=None)\n",
        "    print(\"rect_data: \", rect_data)\n",
        "    print(\"best solution: \", best_solution)\n",
        "    print(\"best solution:\", best_solution.floorplan.bounding_box)\n",
        "\n",
        "    print(\"result: \", min(width_list))\n",
        "    plt.figure()\n",
        "    plt.plot(list(range(1, iter_num + 1)), width_list)\n",
        "    plt.show()\n",
        "    plt.close()\n",
        "\n",
        "\n",
        "last_fitness = 0\n",
        "\n",
        "\n",
        "def ga_run(method):\n",
        "    desired_output = 110\n",
        "    num_generations = 10  # Number of generations.\n",
        "    num_parents_mating = 5  # Number of solutions to be selected as parents in the mating pool.\n",
        "    sol_per_pop = 20  # Number of solutions in the population.\n",
        "    num_genes = RECT_NUM \n",
        "\n",
        "    placement = Placement(s_rect=S_RECT, method=method)\n",
        "\n",
        "    def fitness_func(solution, solution_idx):\n",
        "        rect_data = []\n",
        "        for idx, ele in enumerate(solution):\n",
        "            rect_data.append([ele + B_SPACING, S_RECT[idx] / ele +  B_SPACING])\n",
        "        placement.solver(rect_data,\n",
        "                         height_limit=H_MAX,\n",
        "                         simanneal_minutes=0.001,\n",
        "                         simanneal_steps=10,\n",
        "                         save=False)\n",
        "        output = placement.get_b_box_width_height()[0]\n",
        "        # print(\"width: \", output)\n",
        "        fitness = 1.0 / abs(output - desired_output)\n",
        "        return fitness\n",
        "\n",
        "    fitness_function = fitness_func\n",
        "\n",
        "    def gen_my_gene_space():\n",
        "        _my_gene_space = []\n",
        "        for area in S_RECT:\n",
        "            width_range = int(area / WIDTH_STEP)\n",
        "            _my_gene_space_single = []\n",
        "            for wid in range(0, width_range, WIDTH_STEP):\n",
        "                if wid == 0 or area / wid > H_MAX:\n",
        "                    continue\n",
        "                _my_gene_space_single.append(wid)\n",
        "            _my_gene_space.append(_my_gene_space_single)\n",
        "        print(\"---------------------my_gene_space-----------------\")\n",
        "        print(_my_gene_space)\n",
        "        complex_of_problem = 1\n",
        "\n",
        "        for ele in _my_gene_space:\n",
        "            complex_of_problem *= len(ele)\n",
        "        print(\"complex_of_problem: \", complex_of_problem)\n",
        "\n",
        "        print(\"---------------------my_gene_space-----------------\")\n",
        "        return _my_gene_space\n",
        "\n",
        "    my_gene_space = gen_my_gene_space()\n",
        "\n",
        "    def callback_generation(ga_instance):\n",
        "        global last_fitness\n",
        "        print(\"Generation = {generation}\".format(generation=ga_instance.generations_completed))\n",
        "        print(\"Fitness    = {fitness}\".format(fitness=ga_instance.best_solution()[1]))\n",
        "        print(\"Change     = {change}\".format(change=ga_instance.best_solution()[1] - last_fitness))\n",
        "        last_fitness = ga_instance.best_solution()[1]\n",
        "\n",
        "    ga_instance = pygad.GA(num_generations=num_generations,\n",
        "                           num_parents_mating=num_parents_mating,\n",
        "                           fitness_func=fitness_function,\n",
        "                           sol_per_pop=sol_per_pop,\n",
        "                           num_genes=num_genes,\n",
        "                           gene_space=my_gene_space,\n",
        "                           on_generation=callback_generation,\n",
        "                           crossover_probability=None,\n",
        "                           mutation_type=\"random\")\n",
        "\n",
        "    ga_instance.run()\n",
        "\n",
        "    ga_instance.plot_fitness()\n",
        "\n",
        "    # Returning the details of the best solution.\n",
        "    solution_outer, solution_fitness, solution_idx = ga_instance.best_solution()\n",
        "    print(\"Parameters of the best solution : {solution}\".format(solution=solution_outer))\n",
        "    print(\"Fitness value of the best solution = {solution_fitness}\".format(solution_fitness=solution_fitness))\n",
        "    print(\"Index of the best solution : {solution_idx}\".format(solution_idx=solution_idx))\n",
        "\n",
        "    rect_data_best_solution = []\n",
        "    for idx, wid in enumerate(solution_outer):\n",
        "        rect_data_best_solution.append([wid + B_SPACING, S_RECT[idx] / wid+ B_SPACING])\n",
        "    print(\"rect_data_best_solution\", rect_data_best_solution)\n",
        "    placement.solver(rect_data_best_solution, save=True, simanneal_minutes=1, simanneal_steps=100)\n",
        "\n",
        "\n",
        "@dev\n",
        "def main():\n",
        "    method = \"GA\"\n",
        "\n",
        "    if method == \"GA\":\n",
        "        ga_run(method)\n",
        "    if method == \"SA\":\n",
        "        sa_run(method)\n",
        "\n",
        "\n",
        "if __name__ == \"__main__\":\n",
        "    main()"
      ],
      "metadata": {
        "colab": {
          "base_uri": "https://localhost:8080/"
        },
        "id": "3E5xmemCTqxW",
        "outputId": "30ad3fad-871d-42f7-c36e-bfdb53beacf1"
      },
      "execution_count": null,
      "outputs": [
        {
          "output_type": "stream",
          "name": "stdout",
          "text": [
            "---------------------my_gene_space-----------------\n",
            "[[8, 16, 24, 32, 40, 48, 56, 64, 72], [8, 16, 24, 32, 40, 48, 56, 64, 72, 80, 88, 96], [24, 32, 40, 48, 56, 64, 72, 80, 88, 96, 104, 112, 120, 128, 136, 144, 152, 160, 168, 176, 184, 192, 200, 208, 216, 224, 232, 240, 248, 256, 264, 272, 280, 288, 296, 304, 312, 320, 328, 336, 344, 352, 360, 368, 376, 384, 392, 400, 408, 416, 424, 432, 440, 448, 456, 464, 472, 480, 488, 496, 504, 512, 520, 528, 536, 544, 552, 560, 568, 576, 584, 592, 600, 608, 616, 624, 632, 640, 648, 656, 664, 672, 680, 688, 696], [8], [8, 16, 24, 32, 40, 48, 56], [8, 16], [8], [8], [8, 16, 24, 32, 40, 48, 56, 64, 72], [8, 16, 24, 32, 40, 48, 56, 64, 72, 80, 88, 96], [8, 16, 24, 32, 40, 48, 56, 64, 72], [8, 16, 24, 32, 40, 48, 56, 64, 72, 80, 88, 96], [24, 32, 40, 48, 56, 64, 72, 80, 88, 96, 104, 112, 120, 128, 136, 144, 152, 160, 168, 176, 184, 192, 200, 208, 216, 224, 232, 240, 248, 256, 264, 272, 280, 288, 296, 304, 312, 320, 328, 336, 344, 352, 360, 368, 376, 384, 392, 400, 408, 416, 424, 432, 440, 448, 456, 464, 472, 480, 488, 496, 504, 512, 520, 528, 536, 544, 552, 560, 568, 576, 584, 592, 600, 608, 616, 624, 632, 640, 648, 656, 664, 672, 680, 688, 696], [8], [8, 16, 24, 32, 40, 48, 56], [8, 16], [8], [8], [8, 16, 24, 32, 40, 48, 56, 64, 72], [8, 16, 24, 32, 40, 48, 56, 64, 72, 80, 88, 96], [8, 16, 24, 32, 40, 48, 56, 64, 72], [8, 16, 24, 32, 40, 48, 56, 64, 72, 80, 88, 96], [24, 32, 40, 48, 56, 64, 72, 80, 88, 96, 104, 112, 120, 128, 136, 144, 152, 160, 168, 176, 184, 192, 200, 208, 216, 224, 232, 240, 248, 256, 264, 272, 280, 288, 296, 304, 312, 320, 328, 336, 344, 352, 360, 368, 376, 384, 392, 400, 408, 416, 424, 432, 440, 448, 456, 464, 472, 480, 488, 496, 504, 512, 520, 528, 536, 544, 552, 560, 568, 576, 584, 592, 600, 608, 616, 624, 632, 640, 648, 656, 664, 672, 680, 688, 696], [8], [8, 16, 24, 32, 40, 48, 56], [8, 16], [8], [8], [8, 16, 24, 32, 40, 48, 56, 64, 72], [8, 16, 24, 32, 40, 48, 56, 64, 72, 80, 88, 96]]\n",
            "complex_of_problem:  2674135547177988096000\n",
            "---------------------my_gene_space-----------------\n",
            "Generation = 1\n",
            "Fitness    = 0.0028169014084507044\n",
            "Change     = 0.0028169014084507044\n",
            "Generation = 2\n",
            "Fitness    = 0.003257328990228013\n",
            "Change     = 0.0004404275817773088\n",
            "Generation = 3\n",
            "Fitness    = 0.0044444444444444444\n",
            "Change     = 0.0011871154542164313\n",
            "Generation = 4\n",
            "Fitness    = 0.0044444444444444444\n",
            "Change     = 0.0\n",
            "Generation = 5\n",
            "Fitness    = 0.004807692307692308\n",
            "Change     = 0.0003632478632478635\n",
            "Generation = 6\n",
            "Fitness    = 0.004807692307692308\n",
            "Change     = 0.0\n",
            "Generation = 7\n",
            "Fitness    = 0.004807692307692308\n",
            "Change     = 0.0\n",
            "Generation = 8\n",
            "Fitness    = 0.005405405405405406\n",
            "Change     = 0.0005977130977130977\n",
            "Generation = 9\n",
            "Fitness    = 0.005405405405405406\n",
            "Change     = 0.0\n"
          ]
        }
      ]
    },
    {
      "cell_type": "code",
      "source": [
        "pip install  rectangle_packing_solver"
      ],
      "metadata": {
        "colab": {
          "base_uri": "https://localhost:8080/"
        },
        "id": "fCp5LA4a4s-u",
        "outputId": "eb88e8ae-e44f-47fa-d67e-faab9488b0ef"
      },
      "execution_count": 2,
      "outputs": [
        {
          "output_type": "stream",
          "name": "stdout",
          "text": [
            "Looking in indexes: https://pypi.org/simple, https://us-python.pkg.dev/colab-wheels/public/simple/\n",
            "Collecting rectangle_packing_solver\n",
            "  Downloading rectangle_packing_solver-0.0.5-py3-none-any.whl (27 kB)\n",
            "Collecting graphlib-backport<2.0.0,>=1.0.3\n",
            "  Downloading graphlib_backport-1.0.3-py3-none-any.whl (5.1 kB)\n",
            "Collecting simanneal<1.0.0,>=0.5.0\n",
            "  Downloading simanneal-0.5.0-py2.py3-none-any.whl (5.6 kB)\n",
            "Requirement already satisfied: tqdm<5.0.0,>=4.62.3 in /usr/local/lib/python3.9/dist-packages (from rectangle_packing_solver) (4.65.0)\n",
            "Requirement already satisfied: matplotlib<4.0.0,>=3.3.4 in /usr/local/lib/python3.9/dist-packages (from rectangle_packing_solver) (3.7.1)\n",
            "Requirement already satisfied: pillow>=6.2.0 in /usr/local/lib/python3.9/dist-packages (from matplotlib<4.0.0,>=3.3.4->rectangle_packing_solver) (8.4.0)\n",
            "Requirement already satisfied: pyparsing>=2.3.1 in /usr/local/lib/python3.9/dist-packages (from matplotlib<4.0.0,>=3.3.4->rectangle_packing_solver) (3.0.9)\n",
            "Requirement already satisfied: numpy>=1.20 in /usr/local/lib/python3.9/dist-packages (from matplotlib<4.0.0,>=3.3.4->rectangle_packing_solver) (1.22.4)\n",
            "Requirement already satisfied: importlib-resources>=3.2.0 in /usr/local/lib/python3.9/dist-packages (from matplotlib<4.0.0,>=3.3.4->rectangle_packing_solver) (5.12.0)\n",
            "Requirement already satisfied: contourpy>=1.0.1 in /usr/local/lib/python3.9/dist-packages (from matplotlib<4.0.0,>=3.3.4->rectangle_packing_solver) (1.0.7)\n",
            "Requirement already satisfied: fonttools>=4.22.0 in /usr/local/lib/python3.9/dist-packages (from matplotlib<4.0.0,>=3.3.4->rectangle_packing_solver) (4.39.2)\n",
            "Requirement already satisfied: packaging>=20.0 in /usr/local/lib/python3.9/dist-packages (from matplotlib<4.0.0,>=3.3.4->rectangle_packing_solver) (23.0)\n",
            "Requirement already satisfied: kiwisolver>=1.0.1 in /usr/local/lib/python3.9/dist-packages (from matplotlib<4.0.0,>=3.3.4->rectangle_packing_solver) (1.4.4)\n",
            "Requirement already satisfied: python-dateutil>=2.7 in /usr/local/lib/python3.9/dist-packages (from matplotlib<4.0.0,>=3.3.4->rectangle_packing_solver) (2.8.2)\n",
            "Requirement already satisfied: cycler>=0.10 in /usr/local/lib/python3.9/dist-packages (from matplotlib<4.0.0,>=3.3.4->rectangle_packing_solver) (0.11.0)\n",
            "Requirement already satisfied: zipp>=3.1.0 in /usr/local/lib/python3.9/dist-packages (from importlib-resources>=3.2.0->matplotlib<4.0.0,>=3.3.4->rectangle_packing_solver) (3.15.0)\n",
            "Requirement already satisfied: six>=1.5 in /usr/local/lib/python3.9/dist-packages (from python-dateutil>=2.7->matplotlib<4.0.0,>=3.3.4->rectangle_packing_solver) (1.16.0)\n",
            "Installing collected packages: simanneal, graphlib-backport, rectangle_packing_solver\n",
            "Successfully installed graphlib-backport-1.0.3 rectangle_packing_solver-0.0.5 simanneal-0.5.0\n"
          ]
        }
      ]
    },
    {
      "cell_type": "code",
      "source": [
        "pip install pygad"
      ],
      "metadata": {
        "colab": {
          "base_uri": "https://localhost:8080/"
        },
        "id": "LaKebDQt4wWW",
        "outputId": "3dd29d0f-6832-4f99-af0c-b9d8b5ea9eae"
      },
      "execution_count": 3,
      "outputs": [
        {
          "output_type": "stream",
          "name": "stdout",
          "text": [
            "Looking in indexes: https://pypi.org/simple, https://us-python.pkg.dev/colab-wheels/public/simple/\n",
            "Collecting pygad\n",
            "  Downloading pygad-2.19.2-py3-none-any.whl (61 kB)\n",
            "\u001b[2K     \u001b[90m━━━━━━━━━━━━━━━━━━━━━━━━━━━━━━━━━━━━━━━━\u001b[0m \u001b[32m61.7/61.7 KB\u001b[0m \u001b[31m1.7 MB/s\u001b[0m eta \u001b[36m0:00:00\u001b[0m\n",
            "\u001b[?25hRequirement already satisfied: numpy in /usr/local/lib/python3.9/dist-packages (from pygad) (1.22.4)\n",
            "Requirement already satisfied: matplotlib in /usr/local/lib/python3.9/dist-packages (from pygad) (3.7.1)\n",
            "Requirement already satisfied: cloudpickle in /usr/local/lib/python3.9/dist-packages (from pygad) (2.2.1)\n",
            "Requirement already satisfied: pyparsing>=2.3.1 in /usr/local/lib/python3.9/dist-packages (from matplotlib->pygad) (3.0.9)\n",
            "Requirement already satisfied: kiwisolver>=1.0.1 in /usr/local/lib/python3.9/dist-packages (from matplotlib->pygad) (1.4.4)\n",
            "Requirement already satisfied: fonttools>=4.22.0 in /usr/local/lib/python3.9/dist-packages (from matplotlib->pygad) (4.39.2)\n",
            "Requirement already satisfied: contourpy>=1.0.1 in /usr/local/lib/python3.9/dist-packages (from matplotlib->pygad) (1.0.7)\n",
            "Requirement already satisfied: pillow>=6.2.0 in /usr/local/lib/python3.9/dist-packages (from matplotlib->pygad) (8.4.0)\n",
            "Requirement already satisfied: importlib-resources>=3.2.0 in /usr/local/lib/python3.9/dist-packages (from matplotlib->pygad) (5.12.0)\n",
            "Requirement already satisfied: packaging>=20.0 in /usr/local/lib/python3.9/dist-packages (from matplotlib->pygad) (23.0)\n",
            "Requirement already satisfied: cycler>=0.10 in /usr/local/lib/python3.9/dist-packages (from matplotlib->pygad) (0.11.0)\n",
            "Requirement already satisfied: python-dateutil>=2.7 in /usr/local/lib/python3.9/dist-packages (from matplotlib->pygad) (2.8.2)\n",
            "Requirement already satisfied: zipp>=3.1.0 in /usr/local/lib/python3.9/dist-packages (from importlib-resources>=3.2.0->matplotlib->pygad) (3.15.0)\n",
            "Requirement already satisfied: six>=1.5 in /usr/local/lib/python3.9/dist-packages (from python-dateutil>=2.7->matplotlib->pygad) (1.16.0)\n",
            "Installing collected packages: pygad\n",
            "Successfully installed pygad-2.19.2\n"
          ]
        }
      ]
    },
    {
      "cell_type": "code",
      "source": [],
      "metadata": {
        "id": "51qsWu-w4yKt"
      },
      "execution_count": null,
      "outputs": []
    }
  ]
}